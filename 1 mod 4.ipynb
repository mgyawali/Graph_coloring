{
 "cells": [
  {
   "cell_type": "code",
   "execution_count": 23,
   "metadata": {},
   "outputs": [
    {
     "data": {
      "text/plain": [
       "Class group of order 256 with structure C32 x C4 x C2 of Number Field in alpha with defining polynomial x^2 + 60639"
      ]
     },
     "execution_count": 23,
     "metadata": {},
     "output_type": "execute_result"
    }
   ],
   "source": [
    "K1.<alpha> = QuadraticField(-3*17*29*41)\n",
    "O = K1.maximal_order()\n",
    "cl1.<a,b,c> = O.class_group()\n",
    "cl1"
   ]
  },
  {
   "cell_type": "code",
   "execution_count": 24,
   "metadata": {},
   "outputs": [
    {
     "data": {
      "text/plain": [
       "(1, -1 * 3 * 17 * 29 * 41)"
      ]
     },
     "execution_count": 24,
     "metadata": {},
     "output_type": "execute_result"
    }
   ],
   "source": [
    "x = -3*17*29*41\n",
    "x%4,K1.discriminant().factor()"
   ]
  },
  {
   "cell_type": "code",
   "execution_count": null,
   "metadata": {},
   "outputs": [],
   "source": []
  },
  {
   "cell_type": "code",
   "execution_count": 25,
   "metadata": {},
   "outputs": [
    {
     "data": {
      "text/plain": [
       "[Trivial principal fractional ideal class,\n",
       " Fractional ideal class (17, 1/2*alpha + 17/2),\n",
       " Fractional ideal class (123, 1/2*alpha + 123/2),\n",
       " Fractional ideal class (29, 1/2*alpha + 29/2),\n",
       " Fractional ideal class (87, 1/2*alpha + 87/2),\n",
       " Fractional ideal class (41, 1/2*alpha + 41/2),\n",
       " Fractional ideal class (51, 1/2*alpha + 51/2),\n",
       " Fractional ideal class (3, 1/2*alpha + 3/2)]"
      ]
     },
     "execution_count": 25,
     "metadata": {},
     "output_type": "execute_result"
    }
   ],
   "source": [
    "cl_2 = [i for i in cl1 if i.order() <=2]\n",
    "cl_2"
   ]
  },
  {
   "cell_type": "code",
   "execution_count": 26,
   "metadata": {},
   "outputs": [
    {
     "data": {
      "text/plain": [
       "(Fractional ideal class (87, 1/2*alpha + 87/2),\n",
       " Fractional ideal class (123, 1/2*alpha + 123/2),\n",
       " Fractional ideal class (17, 1/2*alpha + 17/2))"
      ]
     },
     "execution_count": 26,
     "metadata": {},
     "output_type": "execute_result"
    }
   ],
   "source": [
    "a^16,b^2,c"
   ]
  },
  {
   "cell_type": "code",
   "execution_count": 27,
   "metadata": {},
   "outputs": [
    {
     "data": {
      "text/plain": [
       "(Fractional ideal (3, 1/2*alpha + 3/2),\n",
       " Fractional ideal (17, 1/2*alpha + 17/2),\n",
       " Fractional ideal (29, 1/2*alpha + 29/2),\n",
       " Fractional ideal (41, 1/2*alpha + 41/2))"
      ]
     },
     "execution_count": 27,
     "metadata": {},
     "output_type": "execute_result"
    }
   ],
   "source": [
    "I3 = (3*O).factor()[0][0]\n",
    "I17 = O.ideal(17).factor()[0][0]\n",
    "I29 = (29*O).factor()[0][0]\n",
    "I41 = (41*O).factor()[0][0]\n",
    "I3,I17,I29,I41"
   ]
  },
  {
   "cell_type": "code",
   "execution_count": 28,
   "metadata": {},
   "outputs": [
    {
     "data": {
      "text/plain": [
       "True"
      ]
     },
     "execution_count": 28,
     "metadata": {},
     "output_type": "execute_result"
    }
   ],
   "source": [
    "cl1(a^16*b^2*c)==cl1(I3)"
   ]
  },
  {
   "cell_type": "markdown",
   "metadata": {},
   "source": [
    "$I41 \\sim a^{16}*c , I29  \\sim b^2*c  , I17 \\sim  c, I3 \\sim a^{16}*b^2*c$"
   ]
  },
  {
   "cell_type": "code",
   "execution_count": 29,
   "metadata": {},
   "outputs": [],
   "source": [
    "I3m = I3*(3+alpha)/(2*3*19)\n",
    "I17m = I17*(17+alpha)/(17*16)\n",
    "I29m = I29*(19+alpha)*(29+alpha)/(8*25*29)\n",
    "I41m = I41*(41+alpha)/(41*4)\n",
    "\n"
   ]
  },
  {
   "cell_type": "code",
   "execution_count": 30,
   "metadata": {},
   "outputs": [],
   "source": [
    "clm = [I3m,I17m,I29m,I41m]"
   ]
  },
  {
   "cell_type": "code",
   "execution_count": 31,
   "metadata": {},
   "outputs": [
    {
     "name": "stdout",
     "output_type": "stream",
     "text": [
      "(-1, -1, -1, -1)\n",
      "(-1, -1, -1, -1)\n",
      "(-1, -1, -1, -1)\n",
      "(-1, -1, -1, -1)\n"
     ]
    }
   ],
   "source": [
    "for i in clm:\n",
    "    x = i.norm()\n",
    "    print((legendre_symbol(x,3),legendre_symbol(x,17),legendre_symbol(x,29),legendre_symbol(x,41)))"
   ]
  },
  {
   "cell_type": "markdown",
   "metadata": {},
   "source": [
    "Valid coloring in any generating set X containing three ramified peimes but not have a valid coloring for $X = \\langle I3, I17, I29, I41 \\rangle$."
   ]
  },
  {
   "cell_type": "code",
   "execution_count": null,
   "metadata": {},
   "outputs": [],
   "source": []
  }
 ],
 "metadata": {
  "kernelspec": {
   "display_name": "SageMath 8.1",
   "language": "",
   "name": "sagemath"
  },
  "language_info": {
   "codemirror_mode": {
    "name": "ipython",
    "version": 2
   },
   "file_extension": ".py",
   "mimetype": "text/x-python",
   "name": "python",
   "nbconvert_exporter": "python",
   "pygments_lexer": "ipython2",
   "version": "2.7.17"
  }
 },
 "nbformat": 4,
 "nbformat_minor": 2
}
